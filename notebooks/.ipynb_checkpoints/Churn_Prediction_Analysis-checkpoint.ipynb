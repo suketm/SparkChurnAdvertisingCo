{
 "cells": [
  {
   "cell_type": "markdown",
   "metadata": {},
   "source": [
    "## Advertising Agency Churn"
   ]
  },
  {
   "cell_type": "markdown",
   "metadata": {
    "collapsed": true
   },
   "source": [
    "A marketing agency has many customers that use their service to produce ads for the client/customer websites. They've noticed that they have quite a bit of churn in clients."
   ]
  },
  {
   "cell_type": "markdown",
   "metadata": {},
   "source": [
    "Contents\n",
    "- Load Environment Libraries\n",
    "- Load Spark\n",
    "- Load Data & Constants\n",
    "- Feature Exploration\n",
    "- Machine Learning\n",
    "    - Load Libraries\n",
    "    - Feature Engineering\n",
    "    - Machine Learning Model Selection\n",
    "        - Build Model & parameter grid\n",
    "            - Logistic Regression\n",
    "            - Random Forest\n",
    "        - Evaluation Matrix\n",
    "        - Hyperparameters Optimization\n",
    "        - Model Selection"
   ]
  },
  {
   "cell_type": "markdown",
   "metadata": {},
   "source": [
    "Load Environment Libraries"
   ]
  },
  {
   "cell_type": "code",
   "execution_count": 1,
   "metadata": {},
   "outputs": [],
   "source": [
    "import yaml\n",
    "import os\n",
    "import matplotlib.pyplot as plt\n",
    "import numpy as np\n",
    "import pandas as pd"
   ]
  },
  {
   "cell_type": "markdown",
   "metadata": {},
   "source": [
    "Load Spark"
   ]
  },
  {
   "cell_type": "code",
   "execution_count": 2,
   "metadata": {},
   "outputs": [],
   "source": [
    "from pyspark.sql import SparkSession\n",
    "spark = SparkSession.builder.appName(\"Churn Classification\").getOrCreate()"
   ]
  },
  {
   "cell_type": "code",
   "execution_count": 3,
   "metadata": {},
   "outputs": [],
   "source": [
    "from pyspark.sql import functions as F\n",
    "from pyspark.ml.stat import Correlation\n",
    "from pyspark.sql.types import DoubleType, FloatType"
   ]
  },
  {
   "cell_type": "markdown",
   "metadata": {},
   "source": [
    "Load Data & Constants"
   ]
  },
  {
   "cell_type": "code",
   "execution_count": 4,
   "metadata": {},
   "outputs": [],
   "source": [
    "# load config file\n",
    "\n",
    "with open('..\\\\config\\\\config.yaml', 'r', encoding='utf-8') as yml:\n",
    "    config = yaml.load(yml, Loader=yaml.SafeLoader)\n",
    "    \n",
    "df = spark.read.csv(config['paths']['DATA_DIR']+config['paths']['TRAINING_DATA'], inferSchema = True, header = True)\n",
    "\n",
    "# constants\n",
    "path_FIGURE_DIR = config['paths']['FIGURE_DIR']\n",
    "path_MODEL_DIR = config['paths']['MODEL_DIR']\n",
    "file_MODEL_PARAMS = config['paths']['MODEL_PARAMS']\n",
    "lr_MAXITER = config['ml_model_optimizer']['logistic_regression']['MAXITER']\n",
    "lr_REGUPARAM = config['ml_model_optimizer']['logistic_regression']['REGUPARAM']\n",
    "lr_ALPHA = config['ml_model_optimizer']['logistic_regression']['ALPHA']\n",
    "rf_MAXDEPTH = config['ml_model_optimizer']['random_forest']['MAXDEPTH']\n",
    "rf_NUMTREES = config['ml_model_optimizer']['random_forest']['NUMTREES']\n",
    "rf_MAXBINS = config['ml_model_optimizer']['random_forest']['MAXBINS']\n",
    "rf_MININSTANCESPERNODE = config['ml_model_optimizer']['random_forest']['MININSTANCESPERNODE']\n",
    "\n",
    "num_params_lr = len(lr_MAXITER)*len(lr_REGUPARAM)*len(lr_ALPHA)\n",
    "num_params_rf = len(rf_MAXDEPTH)*len(rf_NUMTREES)*len(rf_MAXBINS)*len(rf_MININSTANCESPERNODE)"
   ]
  },
  {
   "cell_type": "markdown",
   "metadata": {},
   "source": [
    "Feature Exploration"
   ]
  },
  {
   "cell_type": "code",
   "execution_count": 5,
   "metadata": {},
   "outputs": [
    {
     "name": "stdout",
     "output_type": "stream",
     "text": [
      "root\n",
      " |-- Names: string (nullable = true)\n",
      " |-- Age: integer (nullable = true)\n",
      " |-- Total_Purchase: double (nullable = true)\n",
      " |-- Account_Manager: integer (nullable = true)\n",
      " |-- Years: double (nullable = true)\n",
      " |-- Num_Sites: integer (nullable = true)\n",
      " |-- Location: string (nullable = true)\n",
      " |-- Company: string (nullable = true)\n",
      " |-- Churn: integer (nullable = true)\n",
      "\n"
     ]
    }
   ],
   "source": [
    "df.printSchema()"
   ]
  },
  {
   "cell_type": "code",
   "execution_count": 6,
   "metadata": {},
   "outputs": [
    {
     "name": "stdout",
     "output_type": "stream",
     "text": [
      "+----------------+---+--------------+---------------+-----+---------+--------------------+--------------------+-----+\n",
      "|           Names|Age|Total_Purchase|Account_Manager|Years|Num_Sites|            Location|             Company|Churn|\n",
      "+----------------+---+--------------+---------------+-----+---------+--------------------+--------------------+-----+\n",
      "|Cameron Williams| 42|       11066.8|              0| 7.22|        8|10265 Elizabeth M...|          Harvey LLC|    1|\n",
      "|   Kevin Mueller| 41|      11916.22|              0|  6.5|       11|6157 Frank Garden...|          Wilson PLC|    1|\n",
      "|     Eric Lozano| 38|      12884.75|              0| 6.67|       12|1331 Keith Court ...|Miller, Johnson a...|    1|\n",
      "+----------------+---+--------------+---------------+-----+---------+--------------------+--------------------+-----+\n",
      "only showing top 3 rows\n",
      "\n"
     ]
    }
   ],
   "source": [
    "df.show(3)"
   ]
  },
  {
   "cell_type": "code",
   "execution_count": 7,
   "metadata": {},
   "outputs": [
    {
     "name": "stdout",
     "output_type": "stream",
     "text": [
      "Row(Names='Cameron Williams', Age=42, Total_Purchase=11066.8, Account_Manager=0, Years=7.22, Num_Sites=8, Location='10265 Elizabeth Mission Barkerburgh, AK 89518', Company='Harvey LLC', Churn=1) \n",
      "\n",
      "Row(Names='Kevin Mueller', Age=41, Total_Purchase=11916.22, Account_Manager=0, Years=6.5, Num_Sites=11, Location='6157 Frank Gardens Suite 019 Carloshaven, RI 17756', Company='Wilson PLC', Churn=1) \n",
      "\n",
      "Row(Names='Eric Lozano', Age=38, Total_Purchase=12884.75, Account_Manager=0, Years=6.67, Num_Sites=12, Location='1331 Keith Court Alyssahaven, DE 90114', Company='Miller, Johnson and Wallace', Churn=1) \n",
      "\n"
     ]
    }
   ],
   "source": [
    "for row in df.head(3):\n",
    "    print (row,'\\n')"
   ]
  },
  {
   "cell_type": "code",
   "execution_count": 8,
   "metadata": {},
   "outputs": [
    {
     "name": "stdout",
     "output_type": "stream",
     "text": [
      "['Names', 'Age', 'Total_Purchase', 'Account_Manager', 'Years', 'Num_Sites', 'Location', 'Company', 'Churn']\n"
     ]
    }
   ],
   "source": [
    "print (df.columns)"
   ]
  },
  {
   "cell_type": "markdown",
   "metadata": {},
   "source": [
    "Features of interest: 'Age', 'Total_Purchase', 'Account_Manager', 'Years', 'Num_Sites'\n",
    "\n",
    "Feature to classify:  'Churn'"
   ]
  },
  {
   "cell_type": "code",
   "execution_count": 9,
   "metadata": {},
   "outputs": [
    {
     "name": "stdout",
     "output_type": "stream",
     "text": [
      "+-----+-----+\n",
      "|Churn|count|\n",
      "+-----+-----+\n",
      "|    1|  150|\n",
      "|    0|  750|\n",
      "+-----+-----+\n",
      "\n"
     ]
    },
    {
     "data": {
      "image/png": "[encoded data removed]",
      "text/plain": [
       "<Figure size 432x288 with 1 Axes>"
      ]
     },
     "metadata": {
      "needs_background": "light"
     },
     "output_type": "display_data"
    }
   ],
   "source": [
    "# Churn\n",
    "df.groupBy('Churn').count().show()\n",
    "# since data is imbalanced, we will consider AUC to evaluate our model\n",
    "\n",
    "num_churn = df.groupBy('Churn').count().collect()\n",
    "natural_default_rate = num_churn[0][1]/(num_churn[0][1]+num_churn[1][1])\n",
    "\n",
    "# Churn distribution\n",
    "objects = ('Churn', 'not Churn')\n",
    "y_pos = np.arange(len(objects))\n",
    "performance = [df.groupBy('Churn').count().collect()[0][1], df.groupBy('Churn').count().collect()[1][1]]\n",
    "\n",
    "plt.bar(y_pos, performance, align='center', alpha=0.3, color = ['grey','g'])\n",
    "plt.xticks(y_pos, objects)\n",
    "plt.ylabel('# of users')\n",
    "plt.title('Churn Distribution')\n",
    "plt.savefig(path_FIGURE_DIR+'Churn Distribution')\n",
    "plt.show()"
   ]
  },
  {
   "cell_type": "code",
   "execution_count": 10,
   "metadata": {},
   "outputs": [
    {
     "name": "stdout",
     "output_type": "stream",
     "text": [
      "root\n",
      " |-- Age: integer (nullable = true)\n",
      "\n"
     ]
    },
    {
     "data": {
      "image/png": "[encoded data removed]",
      "text/plain": [
       "<Figure size 432x288 with 1 Axes>"
      ]
     },
     "metadata": {
      "needs_background": "light"
     },
     "output_type": "display_data"
    }
   ],
   "source": [
    "# Age\n",
    "df.select('Age').printSchema()\n",
    "a = df.filter(df.Churn == 1).select('Age').collect()\n",
    "b = df.filter(df.Churn == 0).select('Age').collect()\n",
    "a = [value[0] for value in a]\n",
    "b = [value[0] for value in b]\n",
    "plt.title('Age Distribution')\n",
    "plt.hist(b, label = 'Not Churn', color = 'green', alpha = 0.3)\n",
    "plt.hist(a, label = 'Churn', color = 'grey', alpha = 0.7)\n",
    "plt.xlabel('Age')\n",
    "plt.ylabel('# of users')\n",
    "plt.legend()\n",
    "plt.savefig(path_FIGURE_DIR+'Age Distribution')\n",
    "plt.show()\n",
    "# Feature Engineering: Age - normalization"
   ]
  },
  {
   "cell_type": "code",
   "execution_count": 11,
   "metadata": {},
   "outputs": [
    {
     "data": {
      "image/png": "[encoded data removed]",
      "text/plain": [
       "<Figure size 432x288 with 1 Axes>"
      ]
     },
     "metadata": {
      "needs_background": "light"
     },
     "output_type": "display_data"
    }
   ],
   "source": [
    "# Total_Purchase\n",
    "a = df.filter(df.Churn == 1).select('Total_Purchase').collect()\n",
    "b = df.filter(df.Churn == 0).select('Total_Purchase').collect()\n",
    "a = [value[0] for value in a]\n",
    "b = [value[0] for value in b]\n",
    "plt.title('Purchase Distribution')\n",
    "plt.hist(b, label = 'Not Churn', color = 'green', alpha = 0.3)\n",
    "plt.hist(a, label = 'Churn', color = 'grey', alpha = 0.7)\n",
    "plt.xlabel('Total Purchases')\n",
    "plt.ylabel('# of users')\n",
    "plt.legend()\n",
    "plt.savefig(path_FIGURE_DIR+'Purchase Distribution')\n",
    "plt.show()\n",
    "# Feature Engineering: Total_Pruchase - normalization"
   ]
  },
  {
   "cell_type": "code",
   "execution_count": 12,
   "metadata": {},
   "outputs": [
    {
     "name": "stdout",
     "output_type": "stream",
     "text": [
      "root\n",
      " |-- Account_Manager: integer (nullable = true)\n",
      "\n",
      "+---------------+\n",
      "|Account_Manager|\n",
      "+---------------+\n",
      "|              1|\n",
      "|              0|\n",
      "+---------------+\n",
      "\n",
      "+---------------+-----+\n",
      "|Account_Manager|count|\n",
      "+---------------+-----+\n",
      "|              1|  433|\n",
      "|              0|  467|\n",
      "+---------------+-----+\n",
      "\n",
      "Churn and Account Manager: 84 \n",
      "Churn and No Account Manager: 66 \n",
      "No Churn and Account Manager: 349 \n",
      "No Churn and No Account Manager: 401\n"
     ]
    },
    {
     "data": {
      "image/png": "[encoded data removed]",
      "text/plain": [
       "<Figure size 432x288 with 1 Axes>"
      ]
     },
     "metadata": {
      "needs_background": "light"
     },
     "output_type": "display_data"
    }
   ],
   "source": [
    "# Account_Manager\n",
    "acc_mngr_Vect = df.select('Account_Manager')\n",
    "acc_mngr_Vect.printSchema()\n",
    "acc_mngr_Vect.distinct().show()\n",
    "# number of classes : 2\n",
    "acc_mngr_Vect.groupBy('Account_Manager').count().show()\n",
    "# Feature Engineering: Not required\n",
    "\n",
    "# Account_Manger Distribution\n",
    "num_churn_acc = df.filter((df.Churn == 1) & (df.Account_Manager == 1)).count()\n",
    "num_churn_no_acc = df.filter((df.Churn == 1) & (df.Account_Manager == 0)).count()\n",
    "num_no_churn_acc = df.filter((df.Churn == 0) & (df.Account_Manager == 1)).count()\n",
    "num_no_churn_no_acc = df.filter((df.Churn == 0) & (df.Account_Manager == 0)).count()\n",
    "\n",
    "print (\"Churn and Account Manager:\",num_churn_acc,\n",
    "       \"\\nChurn and No Account Manager:\",num_churn_no_acc,\n",
    "       \"\\nNo Churn and Account Manager:\",num_no_churn_acc,\n",
    "       \"\\nNo Churn and No Account Manager:\",num_no_churn_no_acc,)\n",
    "\n",
    "objects = ('Yes', 'No')\n",
    "y_pos = np.arange(len(objects))\n",
    "performance_Churn = [num_churn_acc/(num_churn_acc+num_no_churn_acc)*100,\n",
    "\t\t\t\t\tnum_churn_no_acc/(num_churn_no_acc+num_no_churn_no_acc)*100]\n",
    "performance_not_Churn = [100,100] \n",
    "\n",
    "plt.bar(y_pos, performance_not_Churn, align='center', alpha=0.3, color = 'g')\n",
    "plt.bar(y_pos, performance_Churn, align='center', alpha=0.7, color = 'grey', label = 'Churn %')\n",
    "plt.xticks(y_pos, objects)\n",
    "plt.ylabel('% of user')\n",
    "plt.xlabel('Account Manager')\n",
    "plt.legend()\n",
    "plt.title('Account Manager vs. Churn')\n",
    "plt.savefig(path_FIGURE_DIR+'Account Manager_vs_Churn')"
   ]
  },
  {
   "cell_type": "code",
   "execution_count": 13,
   "metadata": {},
   "outputs": [
    {
     "data": {
      "image/png": "[encoded data removed]",
      "text/plain": [
       "<Figure size 432x288 with 1 Axes>"
      ]
     },
     "metadata": {
      "needs_background": "light"
     },
     "output_type": "display_data"
    }
   ],
   "source": [
    "# Years\n",
    "a = df.filter(df.Churn == 1).select('Years').collect()\n",
    "b = df.filter(df.Churn == 0).select('Years').collect()\n",
    "a = [value[0] for value in a]\n",
    "b = [value[0] for value in b]\n",
    "plt.title('Years Distribution')\n",
    "plt.hist(b, label = 'Not Churn', color = 'green', alpha = 0.3)\n",
    "plt.hist(a, label = 'Churn', color = 'grey', alpha = 0.7)\n",
    "plt.xlabel('Years')\n",
    "plt.ylabel('# of users')\n",
    "plt.legend()\n",
    "plt.savefig(path_FIGURE_DIR+'Years Distribution')\n",
    "plt.show()\n",
    "# Feature Engineering: Years - normalization"
   ]
  },
  {
   "cell_type": "code",
   "execution_count": 14,
   "metadata": {
    "scrolled": true
   },
   "outputs": [
    {
     "data": {
      "image/png": "[encoded data removed]",
      "text/plain": [
       "<Figure size 432x288 with 1 Axes>"
      ]
     },
     "metadata": {
      "needs_background": "light"
     },
     "output_type": "display_data"
    }
   ],
   "source": [
    "# Num_Sites\n",
    "a = df.filter(df.Churn == 1).select('Num_Sites').collect()\n",
    "b = df.filter(df.Churn == 0).select('Num_Sites').collect()\n",
    "a = [value[0] for value in a]\n",
    "b = [value[0] for value in b]\n",
    "plt.title('Number of Sites Distribution')\n",
    "plt.hist(b, label = 'Not Churn', color = 'green', alpha = 0.3)\n",
    "plt.hist(a, label = 'Churn', color = 'grey', alpha = 0.7)\n",
    "plt.xlabel('Years')\n",
    "plt.ylabel('# of users')\n",
    "plt.legend()\n",
    "plt.savefig(path_FIGURE_DIR+'Number of Sites Distribution')\n",
    "plt.show()\n",
    "# Feature Engineering: Num_Sites - normalization"
   ]
  },
  {
   "cell_type": "markdown",
   "metadata": {},
   "source": [
    "Machine Learning\n",
    "- Load Libraries\n",
    "- Feature Engineering\n",
    "- Machine Learning Model Selection"
   ]
  },
  {
   "cell_type": "markdown",
   "metadata": {},
   "source": [
    "Load Libraries"
   ]
  },
  {
   "cell_type": "code",
   "execution_count": 15,
   "metadata": {},
   "outputs": [],
   "source": [
    "from pyspark.ml.linalg import Vectors\n",
    "from pyspark.ml.feature import VectorAssembler\n",
    "from pyspark.ml.feature import StandardScaler\n",
    "from pyspark.ml.feature import StringIndexer\n",
    "from pyspark.ml.feature import QuantileDiscretizer\n",
    "from pyspark.ml import Pipeline\n",
    "\n",
    "from pyspark.ml.classification import LogisticRegression\n",
    "from pyspark.ml.classification import RandomForestClassifier\n",
    "\n",
    "from pyspark.ml.tuning import CrossValidator, ParamGridBuilder\n",
    "from pyspark.ml.evaluation import BinaryClassificationEvaluator\n",
    "from pyspark.mllib.evaluation import MulticlassMetrics\n",
    "from pyspark.mllib.evaluation import BinaryClassificationMetrics"
   ]
  },
  {
   "cell_type": "code",
   "execution_count": 16,
   "metadata": {},
   "outputs": [
    {
     "name": "stdout",
     "output_type": "stream",
     "text": [
      "Pearson correlation matrix:\n",
      "DenseMatrix([[ 1.        , -0.0372081 , -0.01474877,  0.00562503, -0.00607048,\n",
      "               0.01499416, -0.03115925,  0.08592554],\n",
      "             [-0.0372081 ,  1.        ,  0.0158556 , -0.00562317, -0.00339   ,\n",
      "              -0.02192963,  0.01961602,  0.02403089],\n",
      "             [-0.01474877,  0.0158556 ,  1.        ,  0.02292988,  0.03340051,\n",
      "              -0.00822135, -0.01603922,  0.07061077],\n",
      "             [ 0.00562503, -0.00562317,  0.02292988,  1.        ,  0.05164166,\n",
      "               0.0280777 , -0.04509425,  0.21432858],\n",
      "             [-0.00607048, -0.00339   ,  0.03340051,  0.05164166,  1.        ,\n",
      "               0.03170065,  0.02953191,  0.52539808],\n",
      "             [ 0.01499416, -0.02192963, -0.00822135,  0.0280777 ,  0.03170065,\n",
      "               1.        , -0.01176351, -0.03351997],\n",
      "             [-0.03115925,  0.01961602, -0.01603922, -0.04509425,  0.02953191,\n",
      "              -0.01176351,  1.        ,  0.03451506],\n",
      "             [ 0.08592554,  0.02403089,  0.07061077,  0.21432858,  0.52539808,\n",
      "              -0.03351997,  0.03451506,  1.        ]])\n"
     ]
    }
   ],
   "source": [
    "# Correlation Matrix\n",
    "\n",
    "# Location Indexer\n",
    "indexer_location = StringIndexer(inputCol=\"Location\", outputCol=\"LocationIndex\")\n",
    "\n",
    "# Company Indexer\n",
    "indexer_Co = StringIndexer(inputCol=\"Company\", outputCol=\"CompanyIndex\")\n",
    "\n",
    "# Assembler: to generate Scale Vector\n",
    "assembler_corr = VectorAssembler(\n",
    "    inputCols=['Age', 'Total_Purchase', 'Account_Manager', 'Years', 'Num_Sites','LocationIndex','CompanyIndex', 'Churn' ],\n",
    "    outputCol=\"features_Corr\")\n",
    "\n",
    "# Feature Engineering Pipeline\n",
    "pipeline_corr = Pipeline(stages = [indexer_location, indexer_Co, assembler_corr])\n",
    "\n",
    "\n",
    "pipepline_corr_2 = pipeline_corr.fit(df)\n",
    "data_complete_corr = pipepline_corr_2.transform(df)\n",
    "data_corr = data_complete_corr.select('features_Corr')\n",
    "\n",
    "r1 = Correlation.corr(data_corr, \"features_Corr\").head()\n",
    "print(\"Pearson correlation matrix:\\n\" + str(r1[0]))"
   ]
  },
  {
   "cell_type": "markdown",
   "metadata": {},
   "source": [
    "Feature Engineering"
   ]
  },
  {
   "cell_type": "code",
   "execution_count": 17,
   "metadata": {},
   "outputs": [],
   "source": [
    "list_features = ['Age', 'Total_Purchase', 'Account_Manager', 'Years', 'Num_Sites']"
   ]
  },
  {
   "cell_type": "code",
   "execution_count": 18,
   "metadata": {},
   "outputs": [],
   "source": [
    "# Feature Engineering\n",
    "# Features: 'Age', 'Total_Purchase', 'Account_Manager', 'Years', 'Num_Sites'\n",
    "\n",
    "\n",
    "# Assembler: to generate Scale Vector\n",
    "assembler = VectorAssembler(\n",
    "    inputCols=list_features,\n",
    "    outputCol=\"featuresToScale\")\n",
    "\n",
    "# Feature Standardizer: Age, Total_Pruchase, Years, Num_Sites\n",
    "scaler = StandardScaler(inputCol=\"featuresToScale\", outputCol=\"features\",withStd=True)\n",
    "\n",
    "# Feature Engineering Pipeline\n",
    "pipeline = Pipeline(stages = [assembler, scaler])"
   ]
  },
  {
   "cell_type": "code",
   "execution_count": 19,
   "metadata": {},
   "outputs": [],
   "source": [
    "feature_engineering_pipepline = pipeline.fit(df)\n",
    "feature_engineered_data = feature_engineering_pipepline.transform(df)\n",
    "data = feature_engineered_data.select('features','Churn', 'Account_Manager')"
   ]
  },
  {
   "cell_type": "markdown",
   "metadata": {},
   "source": [
    "Machine Learning Model Selection\n",
    "- Build Model & parameter grid\n",
    "    - Logistic Regression\n",
    "    - Random Forest\n",
    "- Evaluation Matrix\n",
    "- Hyperparameters Optimization\n",
    "- Model Selection"
   ]
  },
  {
   "cell_type": "markdown",
   "metadata": {},
   "source": [
    "Build Model & parameter grid"
   ]
  },
  {
   "cell_type": "code",
   "execution_count": 20,
   "metadata": {},
   "outputs": [],
   "source": [
    "lr = LogisticRegression(labelCol = 'Churn')\n",
    "grid_lr = ParamGridBuilder() \\\n",
    "            .addGrid(lr.regParam, lr_REGUPARAM)\\\n",
    "            .addGrid(lr.maxIter, lr_MAXITER)\\\n",
    "            .addGrid(lr.elasticNetParam, lr_ALPHA)\\\n",
    "            .build()\n",
    "\n",
    "\n",
    "rf = RandomForestClassifier(labelCol = 'Churn')\n",
    "grid_rf = ParamGridBuilder()\\\n",
    "            .addGrid(rf.maxDepth, rf_MAXDEPTH)\\\n",
    "            .addGrid(rf.maxBins, rf_MAXBINS)\\\n",
    "            .addGrid(rf.numTrees, rf_NUMTREES)\\\n",
    "            .addGrid(rf.minInstancesPerNode, rf_MININSTANCESPERNODE)\\\n",
    "            .build()"
   ]
  },
  {
   "cell_type": "markdown",
   "metadata": {},
   "source": [
    "Evaluation Matrix"
   ]
  },
  {
   "cell_type": "code",
   "execution_count": 21,
   "metadata": {},
   "outputs": [],
   "source": [
    "# since distribution of Churn is not balance, we will use AUC matrix to make the predictions\n",
    "evaluator = BinaryClassificationEvaluator(rawPredictionCol='rawPrediction',labelCol='Churn')"
   ]
  },
  {
   "cell_type": "markdown",
   "metadata": {},
   "source": [
    "Hyperparameters Optimization"
   ]
  },
  {
   "cell_type": "code",
   "execution_count": 22,
   "metadata": {},
   "outputs": [],
   "source": [
    "# build cross validator\n",
    "cv_lr = CrossValidator(estimator = lr, estimatorParamMaps = grid_lr, evaluator = evaluator, numFolds = 3)\n",
    "cv_rf = CrossValidator(estimator = rf, estimatorParamMaps = grid_rf, evaluator = evaluator, numFolds = 3)"
   ]
  },
  {
   "cell_type": "code",
   "execution_count": 23,
   "metadata": {},
   "outputs": [],
   "source": [
    "# fit model: Logistic Regression\n",
    "cv_model_lr = cv_lr.fit(data)"
   ]
  },
  {
   "cell_type": "code",
   "execution_count": 24,
   "metadata": {},
   "outputs": [],
   "source": [
    "#fit model: Random Forest\n",
    "cv_model_rf = cv_rf.fit(data)"
   ]
  },
  {
   "cell_type": "code",
   "execution_count": 25,
   "metadata": {},
   "outputs": [],
   "source": [
    "best_model_lr = cv_model_lr.bestModel\n",
    "best_model_rf = cv_model_rf.bestModel"
   ]
  },
  {
   "cell_type": "code",
   "execution_count": 26,
   "metadata": {},
   "outputs": [
    {
     "data": {
      "image/png": "[encoded data removed]",
      "text/plain": [
       "<Figure size 432x288 with 1 Axes>"
      ]
     },
     "metadata": {
      "needs_background": "light"
     },
     "output_type": "display_data"
    }
   ],
   "source": [
    "# Feature Importance\n",
    "n_features = 5\n",
    "plt.barh(range(n_features), best_model_rf.featureImportances, align='center', color = 'green', alpha = 0.3)\n",
    "plt.yticks(np.arange(n_features), list_features)\n",
    "plt.xlabel(\"Feature importance\")\n",
    "plt.ylabel(\"Feature\")\n",
    "plt.ylim(-1, n_features)\n",
    "plt.savefig(path_FIGURE_DIR+'Feature Importance')"
   ]
  },
  {
   "cell_type": "code",
   "execution_count": 27,
   "metadata": {},
   "outputs": [],
   "source": [
    "auc_vec_lr = cv_model_lr.avgMetrics\n",
    "auc_vec_rf = cv_model_rf.avgMetrics"
   ]
  },
  {
   "cell_type": "code",
   "execution_count": 28,
   "metadata": {},
   "outputs": [
    {
     "name": "stdout",
     "output_type": "stream",
     "text": [
      "\n",
      "Logistic Regression Results\n"
     ]
    },
    {
     "data": {
      "text/html": [
       "<div>\n",
       "<style scoped>\n",
       "    .dataframe tbody tr th:only-of-type {\n",
       "        vertical-align: middle;\n",
       "    }\n",
       "\n",
       "    .dataframe tbody tr th {\n",
       "        vertical-align: top;\n",
       "    }\n",
       "\n",
       "    .dataframe thead th {\n",
       "        text-align: right;\n",
       "    }\n",
       "</style>\n",
       "<table border=\"1\" class=\"dataframe\">\n",
       "  <thead>\n",
       "    <tr style=\"text-align: right;\">\n",
       "      <th></th>\n",
       "      <th>AUC</th>\n",
       "      <th>regParam</th>\n",
       "      <th>maxIter</th>\n",
       "      <th>elasticNetParam</th>\n",
       "    </tr>\n",
       "  </thead>\n",
       "  <tbody>\n",
       "    <tr>\n",
       "      <th>0</th>\n",
       "      <td>0.90</td>\n",
       "      <td>0.0</td>\n",
       "      <td>100</td>\n",
       "      <td>0.00</td>\n",
       "    </tr>\n",
       "    <tr>\n",
       "      <th>1</th>\n",
       "      <td>0.90</td>\n",
       "      <td>0.0</td>\n",
       "      <td>100</td>\n",
       "      <td>0.01</td>\n",
       "    </tr>\n",
       "    <tr>\n",
       "      <th>2</th>\n",
       "      <td>0.90</td>\n",
       "      <td>0.0</td>\n",
       "      <td>100</td>\n",
       "      <td>1.00</td>\n",
       "    </tr>\n",
       "    <tr>\n",
       "      <th>3</th>\n",
       "      <td>0.90</td>\n",
       "      <td>1.0</td>\n",
       "      <td>100</td>\n",
       "      <td>0.00</td>\n",
       "    </tr>\n",
       "    <tr>\n",
       "      <th>4</th>\n",
       "      <td>0.90</td>\n",
       "      <td>1.0</td>\n",
       "      <td>100</td>\n",
       "      <td>0.01</td>\n",
       "    </tr>\n",
       "    <tr>\n",
       "      <th>5</th>\n",
       "      <td>0.50</td>\n",
       "      <td>1.0</td>\n",
       "      <td>100</td>\n",
       "      <td>1.00</td>\n",
       "    </tr>\n",
       "    <tr>\n",
       "      <th>6</th>\n",
       "      <td>0.90</td>\n",
       "      <td>10.0</td>\n",
       "      <td>100</td>\n",
       "      <td>0.00</td>\n",
       "    </tr>\n",
       "    <tr>\n",
       "      <th>7</th>\n",
       "      <td>0.88</td>\n",
       "      <td>10.0</td>\n",
       "      <td>100</td>\n",
       "      <td>0.01</td>\n",
       "    </tr>\n",
       "    <tr>\n",
       "      <th>8</th>\n",
       "      <td>0.50</td>\n",
       "      <td>10.0</td>\n",
       "      <td>100</td>\n",
       "      <td>1.00</td>\n",
       "    </tr>\n",
       "  </tbody>\n",
       "</table>\n",
       "</div>"
      ],
      "text/plain": [
       "    AUC  regParam  maxIter  elasticNetParam\n",
       "0  0.90       0.0      100             0.00\n",
       "1  0.90       0.0      100             0.01\n",
       "2  0.90       0.0      100             1.00\n",
       "3  0.90       1.0      100             0.00\n",
       "4  0.90       1.0      100             0.01\n",
       "5  0.50       1.0      100             1.00\n",
       "6  0.90      10.0      100             0.00\n",
       "7  0.88      10.0      100             0.01\n",
       "8  0.50      10.0      100             1.00"
      ]
     },
     "execution_count": 28,
     "metadata": {},
     "output_type": "execute_result"
    }
   ],
   "source": [
    "# Result Visual: Logistic Regression\n",
    "print ('\\nLogistic Regression Results')\n",
    "dict_log_reg_results = {'AUC':[]}\n",
    "for param_idx in range(num_params_lr):\n",
    "    list_param_value = list(grid_lr[param_idx].keys())\n",
    "    for param_value in list_param_value:\n",
    "        if param_value.name not in dict_log_reg_results:\n",
    "            dict_log_reg_results[param_value.name] = []\n",
    "        dict_log_reg_results[param_value.name].append(grid_lr[param_idx][param_value])\n",
    "    dict_log_reg_results['AUC'].append(round(auc_vec_lr[param_idx],2))\n",
    "pd.DataFrame(dict_log_reg_results)"
   ]
  },
  {
   "cell_type": "code",
   "execution_count": 29,
   "metadata": {},
   "outputs": [
    {
     "name": "stdout",
     "output_type": "stream",
     "text": [
      "\n",
      "Random Forest Results\n"
     ]
    },
    {
     "data": {
      "text/html": [
       "<div>\n",
       "<style scoped>\n",
       "    .dataframe tbody tr th:only-of-type {\n",
       "        vertical-align: middle;\n",
       "    }\n",
       "\n",
       "    .dataframe tbody tr th {\n",
       "        vertical-align: top;\n",
       "    }\n",
       "\n",
       "    .dataframe thead th {\n",
       "        text-align: right;\n",
       "    }\n",
       "</style>\n",
       "<table border=\"1\" class=\"dataframe\">\n",
       "  <thead>\n",
       "    <tr style=\"text-align: right;\">\n",
       "      <th></th>\n",
       "      <th>AUC</th>\n",
       "      <th>maxDepth</th>\n",
       "      <th>maxBins</th>\n",
       "      <th>numTrees</th>\n",
       "      <th>minInstancesPerNode</th>\n",
       "    </tr>\n",
       "  </thead>\n",
       "  <tbody>\n",
       "    <tr>\n",
       "      <th>0</th>\n",
       "      <td>0.87</td>\n",
       "      <td>5</td>\n",
       "      <td>30</td>\n",
       "      <td>10</td>\n",
       "      <td>1</td>\n",
       "    </tr>\n",
       "    <tr>\n",
       "      <th>1</th>\n",
       "      <td>0.88</td>\n",
       "      <td>5</td>\n",
       "      <td>30</td>\n",
       "      <td>10</td>\n",
       "      <td>5</td>\n",
       "    </tr>\n",
       "    <tr>\n",
       "      <th>2</th>\n",
       "      <td>0.88</td>\n",
       "      <td>5</td>\n",
       "      <td>30</td>\n",
       "      <td>10</td>\n",
       "      <td>10</td>\n",
       "    </tr>\n",
       "    <tr>\n",
       "      <th>3</th>\n",
       "      <td>0.87</td>\n",
       "      <td>5</td>\n",
       "      <td>30</td>\n",
       "      <td>20</td>\n",
       "      <td>1</td>\n",
       "    </tr>\n",
       "    <tr>\n",
       "      <th>4</th>\n",
       "      <td>0.86</td>\n",
       "      <td>5</td>\n",
       "      <td>30</td>\n",
       "      <td>20</td>\n",
       "      <td>5</td>\n",
       "    </tr>\n",
       "    <tr>\n",
       "      <th>5</th>\n",
       "      <td>0.87</td>\n",
       "      <td>5</td>\n",
       "      <td>30</td>\n",
       "      <td>20</td>\n",
       "      <td>10</td>\n",
       "    </tr>\n",
       "    <tr>\n",
       "      <th>6</th>\n",
       "      <td>0.88</td>\n",
       "      <td>5</td>\n",
       "      <td>30</td>\n",
       "      <td>30</td>\n",
       "      <td>1</td>\n",
       "    </tr>\n",
       "    <tr>\n",
       "      <th>7</th>\n",
       "      <td>0.88</td>\n",
       "      <td>5</td>\n",
       "      <td>30</td>\n",
       "      <td>30</td>\n",
       "      <td>5</td>\n",
       "    </tr>\n",
       "    <tr>\n",
       "      <th>8</th>\n",
       "      <td>0.87</td>\n",
       "      <td>5</td>\n",
       "      <td>30</td>\n",
       "      <td>30</td>\n",
       "      <td>10</td>\n",
       "    </tr>\n",
       "    <tr>\n",
       "      <th>9</th>\n",
       "      <td>0.88</td>\n",
       "      <td>5</td>\n",
       "      <td>32</td>\n",
       "      <td>10</td>\n",
       "      <td>1</td>\n",
       "    </tr>\n",
       "    <tr>\n",
       "      <th>10</th>\n",
       "      <td>0.87</td>\n",
       "      <td>5</td>\n",
       "      <td>32</td>\n",
       "      <td>10</td>\n",
       "      <td>5</td>\n",
       "    </tr>\n",
       "    <tr>\n",
       "      <th>11</th>\n",
       "      <td>0.88</td>\n",
       "      <td>5</td>\n",
       "      <td>32</td>\n",
       "      <td>10</td>\n",
       "      <td>10</td>\n",
       "    </tr>\n",
       "    <tr>\n",
       "      <th>12</th>\n",
       "      <td>0.87</td>\n",
       "      <td>5</td>\n",
       "      <td>32</td>\n",
       "      <td>20</td>\n",
       "      <td>1</td>\n",
       "    </tr>\n",
       "    <tr>\n",
       "      <th>13</th>\n",
       "      <td>0.88</td>\n",
       "      <td>5</td>\n",
       "      <td>32</td>\n",
       "      <td>20</td>\n",
       "      <td>5</td>\n",
       "    </tr>\n",
       "    <tr>\n",
       "      <th>14</th>\n",
       "      <td>0.87</td>\n",
       "      <td>5</td>\n",
       "      <td>32</td>\n",
       "      <td>20</td>\n",
       "      <td>10</td>\n",
       "    </tr>\n",
       "    <tr>\n",
       "      <th>15</th>\n",
       "      <td>0.87</td>\n",
       "      <td>5</td>\n",
       "      <td>32</td>\n",
       "      <td>30</td>\n",
       "      <td>1</td>\n",
       "    </tr>\n",
       "    <tr>\n",
       "      <th>16</th>\n",
       "      <td>0.88</td>\n",
       "      <td>5</td>\n",
       "      <td>32</td>\n",
       "      <td>30</td>\n",
       "      <td>5</td>\n",
       "    </tr>\n",
       "    <tr>\n",
       "      <th>17</th>\n",
       "      <td>0.88</td>\n",
       "      <td>5</td>\n",
       "      <td>32</td>\n",
       "      <td>30</td>\n",
       "      <td>10</td>\n",
       "    </tr>\n",
       "    <tr>\n",
       "      <th>18</th>\n",
       "      <td>0.86</td>\n",
       "      <td>5</td>\n",
       "      <td>35</td>\n",
       "      <td>10</td>\n",
       "      <td>1</td>\n",
       "    </tr>\n",
       "    <tr>\n",
       "      <th>19</th>\n",
       "      <td>0.88</td>\n",
       "      <td>5</td>\n",
       "      <td>35</td>\n",
       "      <td>10</td>\n",
       "      <td>5</td>\n",
       "    </tr>\n",
       "    <tr>\n",
       "      <th>20</th>\n",
       "      <td>0.88</td>\n",
       "      <td>5</td>\n",
       "      <td>35</td>\n",
       "      <td>10</td>\n",
       "      <td>10</td>\n",
       "    </tr>\n",
       "    <tr>\n",
       "      <th>21</th>\n",
       "      <td>0.87</td>\n",
       "      <td>5</td>\n",
       "      <td>35</td>\n",
       "      <td>20</td>\n",
       "      <td>1</td>\n",
       "    </tr>\n",
       "    <tr>\n",
       "      <th>22</th>\n",
       "      <td>0.87</td>\n",
       "      <td>5</td>\n",
       "      <td>35</td>\n",
       "      <td>20</td>\n",
       "      <td>5</td>\n",
       "    </tr>\n",
       "    <tr>\n",
       "      <th>23</th>\n",
       "      <td>0.86</td>\n",
       "      <td>5</td>\n",
       "      <td>35</td>\n",
       "      <td>20</td>\n",
       "      <td>10</td>\n",
       "    </tr>\n",
       "    <tr>\n",
       "      <th>24</th>\n",
       "      <td>0.87</td>\n",
       "      <td>5</td>\n",
       "      <td>35</td>\n",
       "      <td>30</td>\n",
       "      <td>1</td>\n",
       "    </tr>\n",
       "    <tr>\n",
       "      <th>25</th>\n",
       "      <td>0.87</td>\n",
       "      <td>5</td>\n",
       "      <td>35</td>\n",
       "      <td>30</td>\n",
       "      <td>5</td>\n",
       "    </tr>\n",
       "    <tr>\n",
       "      <th>26</th>\n",
       "      <td>0.87</td>\n",
       "      <td>5</td>\n",
       "      <td>35</td>\n",
       "      <td>30</td>\n",
       "      <td>10</td>\n",
       "    </tr>\n",
       "    <tr>\n",
       "      <th>27</th>\n",
       "      <td>0.83</td>\n",
       "      <td>10</td>\n",
       "      <td>30</td>\n",
       "      <td>10</td>\n",
       "      <td>1</td>\n",
       "    </tr>\n",
       "    <tr>\n",
       "      <th>28</th>\n",
       "      <td>0.87</td>\n",
       "      <td>10</td>\n",
       "      <td>30</td>\n",
       "      <td>10</td>\n",
       "      <td>5</td>\n",
       "    </tr>\n",
       "    <tr>\n",
       "      <th>29</th>\n",
       "      <td>0.88</td>\n",
       "      <td>10</td>\n",
       "      <td>30</td>\n",
       "      <td>10</td>\n",
       "      <td>10</td>\n",
       "    </tr>\n",
       "    <tr>\n",
       "      <th>...</th>\n",
       "      <td>...</td>\n",
       "      <td>...</td>\n",
       "      <td>...</td>\n",
       "      <td>...</td>\n",
       "      <td>...</td>\n",
       "    </tr>\n",
       "    <tr>\n",
       "      <th>51</th>\n",
       "      <td>0.85</td>\n",
       "      <td>10</td>\n",
       "      <td>35</td>\n",
       "      <td>30</td>\n",
       "      <td>1</td>\n",
       "    </tr>\n",
       "    <tr>\n",
       "      <th>52</th>\n",
       "      <td>0.88</td>\n",
       "      <td>10</td>\n",
       "      <td>35</td>\n",
       "      <td>30</td>\n",
       "      <td>5</td>\n",
       "    </tr>\n",
       "    <tr>\n",
       "      <th>53</th>\n",
       "      <td>0.88</td>\n",
       "      <td>10</td>\n",
       "      <td>35</td>\n",
       "      <td>30</td>\n",
       "      <td>10</td>\n",
       "    </tr>\n",
       "    <tr>\n",
       "      <th>54</th>\n",
       "      <td>0.83</td>\n",
       "      <td>15</td>\n",
       "      <td>30</td>\n",
       "      <td>10</td>\n",
       "      <td>1</td>\n",
       "    </tr>\n",
       "    <tr>\n",
       "      <th>55</th>\n",
       "      <td>0.87</td>\n",
       "      <td>15</td>\n",
       "      <td>30</td>\n",
       "      <td>10</td>\n",
       "      <td>5</td>\n",
       "    </tr>\n",
       "    <tr>\n",
       "      <th>56</th>\n",
       "      <td>0.88</td>\n",
       "      <td>15</td>\n",
       "      <td>30</td>\n",
       "      <td>10</td>\n",
       "      <td>10</td>\n",
       "    </tr>\n",
       "    <tr>\n",
       "      <th>57</th>\n",
       "      <td>0.84</td>\n",
       "      <td>15</td>\n",
       "      <td>30</td>\n",
       "      <td>20</td>\n",
       "      <td>1</td>\n",
       "    </tr>\n",
       "    <tr>\n",
       "      <th>58</th>\n",
       "      <td>0.88</td>\n",
       "      <td>15</td>\n",
       "      <td>30</td>\n",
       "      <td>20</td>\n",
       "      <td>5</td>\n",
       "    </tr>\n",
       "    <tr>\n",
       "      <th>59</th>\n",
       "      <td>0.87</td>\n",
       "      <td>15</td>\n",
       "      <td>30</td>\n",
       "      <td>20</td>\n",
       "      <td>10</td>\n",
       "    </tr>\n",
       "    <tr>\n",
       "      <th>60</th>\n",
       "      <td>0.86</td>\n",
       "      <td>15</td>\n",
       "      <td>30</td>\n",
       "      <td>30</td>\n",
       "      <td>1</td>\n",
       "    </tr>\n",
       "    <tr>\n",
       "      <th>61</th>\n",
       "      <td>0.87</td>\n",
       "      <td>15</td>\n",
       "      <td>30</td>\n",
       "      <td>30</td>\n",
       "      <td>5</td>\n",
       "    </tr>\n",
       "    <tr>\n",
       "      <th>62</th>\n",
       "      <td>0.88</td>\n",
       "      <td>15</td>\n",
       "      <td>30</td>\n",
       "      <td>30</td>\n",
       "      <td>10</td>\n",
       "    </tr>\n",
       "    <tr>\n",
       "      <th>63</th>\n",
       "      <td>0.83</td>\n",
       "      <td>15</td>\n",
       "      <td>32</td>\n",
       "      <td>10</td>\n",
       "      <td>1</td>\n",
       "    </tr>\n",
       "    <tr>\n",
       "      <th>64</th>\n",
       "      <td>0.88</td>\n",
       "      <td>15</td>\n",
       "      <td>32</td>\n",
       "      <td>10</td>\n",
       "      <td>5</td>\n",
       "    </tr>\n",
       "    <tr>\n",
       "      <th>65</th>\n",
       "      <td>0.88</td>\n",
       "      <td>15</td>\n",
       "      <td>32</td>\n",
       "      <td>10</td>\n",
       "      <td>10</td>\n",
       "    </tr>\n",
       "    <tr>\n",
       "      <th>66</th>\n",
       "      <td>0.85</td>\n",
       "      <td>15</td>\n",
       "      <td>32</td>\n",
       "      <td>20</td>\n",
       "      <td>1</td>\n",
       "    </tr>\n",
       "    <tr>\n",
       "      <th>67</th>\n",
       "      <td>0.88</td>\n",
       "      <td>15</td>\n",
       "      <td>32</td>\n",
       "      <td>20</td>\n",
       "      <td>5</td>\n",
       "    </tr>\n",
       "    <tr>\n",
       "      <th>68</th>\n",
       "      <td>0.87</td>\n",
       "      <td>15</td>\n",
       "      <td>32</td>\n",
       "      <td>20</td>\n",
       "      <td>10</td>\n",
       "    </tr>\n",
       "    <tr>\n",
       "      <th>69</th>\n",
       "      <td>0.85</td>\n",
       "      <td>15</td>\n",
       "      <td>32</td>\n",
       "      <td>30</td>\n",
       "      <td>1</td>\n",
       "    </tr>\n",
       "    <tr>\n",
       "      <th>70</th>\n",
       "      <td>0.88</td>\n",
       "      <td>15</td>\n",
       "      <td>32</td>\n",
       "      <td>30</td>\n",
       "      <td>5</td>\n",
       "    </tr>\n",
       "    <tr>\n",
       "      <th>71</th>\n",
       "      <td>0.89</td>\n",
       "      <td>15</td>\n",
       "      <td>32</td>\n",
       "      <td>30</td>\n",
       "      <td>10</td>\n",
       "    </tr>\n",
       "    <tr>\n",
       "      <th>72</th>\n",
       "      <td>0.84</td>\n",
       "      <td>15</td>\n",
       "      <td>35</td>\n",
       "      <td>10</td>\n",
       "      <td>1</td>\n",
       "    </tr>\n",
       "    <tr>\n",
       "      <th>73</th>\n",
       "      <td>0.88</td>\n",
       "      <td>15</td>\n",
       "      <td>35</td>\n",
       "      <td>10</td>\n",
       "      <td>5</td>\n",
       "    </tr>\n",
       "    <tr>\n",
       "      <th>74</th>\n",
       "      <td>0.88</td>\n",
       "      <td>15</td>\n",
       "      <td>35</td>\n",
       "      <td>10</td>\n",
       "      <td>10</td>\n",
       "    </tr>\n",
       "    <tr>\n",
       "      <th>75</th>\n",
       "      <td>0.83</td>\n",
       "      <td>15</td>\n",
       "      <td>35</td>\n",
       "      <td>20</td>\n",
       "      <td>1</td>\n",
       "    </tr>\n",
       "    <tr>\n",
       "      <th>76</th>\n",
       "      <td>0.88</td>\n",
       "      <td>15</td>\n",
       "      <td>35</td>\n",
       "      <td>20</td>\n",
       "      <td>5</td>\n",
       "    </tr>\n",
       "    <tr>\n",
       "      <th>77</th>\n",
       "      <td>0.87</td>\n",
       "      <td>15</td>\n",
       "      <td>35</td>\n",
       "      <td>20</td>\n",
       "      <td>10</td>\n",
       "    </tr>\n",
       "    <tr>\n",
       "      <th>78</th>\n",
       "      <td>0.85</td>\n",
       "      <td>15</td>\n",
       "      <td>35</td>\n",
       "      <td>30</td>\n",
       "      <td>1</td>\n",
       "    </tr>\n",
       "    <tr>\n",
       "      <th>79</th>\n",
       "      <td>0.88</td>\n",
       "      <td>15</td>\n",
       "      <td>35</td>\n",
       "      <td>30</td>\n",
       "      <td>5</td>\n",
       "    </tr>\n",
       "    <tr>\n",
       "      <th>80</th>\n",
       "      <td>0.88</td>\n",
       "      <td>15</td>\n",
       "      <td>35</td>\n",
       "      <td>30</td>\n",
       "      <td>10</td>\n",
       "    </tr>\n",
       "  </tbody>\n",
       "</table>\n",
       "<p>81 rows × 5 columns</p>\n",
       "</div>"
      ],
      "text/plain": [
       "     AUC  maxDepth  maxBins  numTrees  minInstancesPerNode\n",
       "0   0.87         5       30        10                    1\n",
       "1   0.88         5       30        10                    5\n",
       "2   0.88         5       30        10                   10\n",
       "3   0.87         5       30        20                    1\n",
       "4   0.86         5       30        20                    5\n",
       "..   ...       ...      ...       ...                  ...\n",
       "76  0.88        15       35        20                    5\n",
       "77  0.87        15       35        20                   10\n",
       "78  0.85        15       35        30                    1\n",
       "79  0.88        15       35        30                    5\n",
       "80  0.88        15       35        30                   10\n",
       "\n",
       "[81 rows x 5 columns]"
      ]
     },
     "execution_count": 29,
     "metadata": {},
     "output_type": "execute_result"
    }
   ],
   "source": [
    "# Result Visual: Random Forest\n",
    "print ('\\nRandom Forest Results')\n",
    "dict_random_forest_results = {'AUC':[]}\n",
    "for param_idx in range(num_params_rf):\n",
    "    list_param_value = list(grid_rf[param_idx].keys())\n",
    "    for param_value in list_param_value:\n",
    "        if param_value.name not in dict_random_forest_results:\n",
    "            dict_random_forest_results[param_value.name] = []\n",
    "        dict_random_forest_results[param_value.name].append(grid_rf[param_idx][param_value])\n",
    "    dict_random_forest_results['AUC'].append(round(auc_vec_rf[param_idx],2))\n",
    "pd.DataFrame(dict_random_forest_results)"
   ]
  },
  {
   "cell_type": "markdown",
   "metadata": {},
   "source": [
    "Model Selection"
   ]
  },
  {
   "cell_type": "code",
   "execution_count": 30,
   "metadata": {},
   "outputs": [],
   "source": [
    "def confustion_matrix(input_predictions_labels):\n",
    "    predictions_labels_modified = input_predictions_labels\\\n",
    "                                .withColumn('TP',F.when(((F.col('prediction') == 1) & (F.col('label') == 1)), 1).otherwise(0))\\\n",
    "                                .withColumn('FP',F.when(((F.col('prediction') == 1) & (F.col('label') == 0)), 1).otherwise(0))\\\n",
    "                                .withColumn('FN',F.when(((F.col('prediction') == 0) & (F.col('label') == 1)), 1).otherwise(0))\\\n",
    "                                .withColumn('TN',F.when(((F.col('prediction') == 0) & (F.col('label') == 0)), 1).otherwise(0))\n",
    "\n",
    "    true_pos = predictions_labels_modified.filter(F.col('TP') == 1).count()\n",
    "    false_pos = predictions_labels_modified.filter(F.col('FP') == 1).count()\n",
    "    false_neg = predictions_labels_modified.filter(F.col('FN') == 1).count()\n",
    "    true_neg = predictions_labels_modified.filter(F.col('TN') == 1).count()\n",
    "\n",
    "    return true_pos, false_pos, false_neg, true_neg"
   ]
  },
  {
   "cell_type": "code",
   "execution_count": 41,
   "metadata": {},
   "outputs": [],
   "source": [
    "def training_summary(ls_threshold, transformed_data):\n",
    "    \n",
    "    split_udf = F.udf(lambda value: float(value[1]), DoubleType())\n",
    "    transformed_data = transformed_data.withColumn('probability_1', split_udf(F.col('probability')))\n",
    "    transformed_data.orderBy('probability_1')\n",
    "    transformed_data = transformed_data.withColumn(\"label\", F.col(\"Churn\").cast(DoubleType()))\n",
    "    \n",
    "    list_accuracy = []\n",
    "    list_precision = []\n",
    "    list_recall = []\n",
    "    list_F1 = []\n",
    "    list_TPR = []\n",
    "    list_FPR = []\n",
    "        \n",
    "    for threshold in list_threshold:\n",
    "        \n",
    "        transformed_data = transformed_data\\\n",
    "                            .withColumn('prediction', F.when(F.col('probability_1') > threshold, 1.0 ).otherwise(0.0))\n",
    "        \n",
    "        true_pos, false_pos, false_neg, true_neg = confustion_matrix(\n",
    "                                                input_predictions_labels = transformed_data.select('prediction', 'label'))\n",
    "        \n",
    "        print (true_pos, false_pos, false_neg, true_neg, threshold)\n",
    "        \n",
    "        acc = (true_pos + true_neg)/(true_pos + true_neg + false_pos + false_neg)\n",
    "        prec = true_pos / (true_pos + false_pos)\n",
    "        recall = true_pos / (true_pos + false_neg)\n",
    "        f1_score = 2*prec*recall/(prec + recall)\n",
    "        tpr = true_pos / (true_pos + false_neg)\n",
    "        fpr = false_pos / (false_pos + true_neg)\n",
    "        \n",
    "        list_accuracy.append(acc)\n",
    "        list_precision.append(prec)\n",
    "        list_recall.append(recall)\n",
    "        list_F1.append(f1_score)\n",
    "        list_TPR.append(tpr)\n",
    "        list_FPR.append(fpr)\n",
    "        \n",
    "    return list_accuracy, list_precision, list_recall, list_F1, list_TPR, list_FPR"
   ]
  },
  {
   "cell_type": "code",
   "execution_count": 33,
   "metadata": {},
   "outputs": [],
   "source": [
    "def gain_lift(transformed_data, ndr, model_name):\n",
    "\n",
    "    transformed_data = transformed_data.orderBy('probability')\n",
    "    \n",
    "    data_size = transformed_data.count()\n",
    "    total_churn = int(ndr*data_size)\n",
    "    \n",
    "    gain_lift_matrix = {\n",
    "        'decile': list(np.arange(10,110,10)),\n",
    "        'LabeledPerDecile': [],\n",
    "        'CummLabeledPerDecile': [],\n",
    "        'ChurnPerCentPerDecile': [],\n",
    "        model_name+'_LabeledPerDecile': [],\n",
    "        model_name+'_CummLabeledPerDecile': [],\n",
    "        model_name+'_ChurnPerCentPerDecile': [],\n",
    "        'RandomSelection_Gain': [],\n",
    "        'RandomSelection_Lift': [],\n",
    "        model_name+'_Gain': [],\n",
    "        model_name+'_Lift': []\n",
    "    }\n",
    "    \n",
    "    for decile in gain_lift_matrix['decile']:\n",
    "      \n",
    "        gain_lift_matrix['LabeledPerDecile'].append(ndr*data_size/10)\n",
    "        gain_lift_matrix['CummLabeledPerDecile'].append(sum(gain_lift_matrix['LabeledPerDecile']))\n",
    "        gain_lift_matrix['ChurnPerCentPerDecile'].append(round(ndr*100,2))\n",
    "        \n",
    "        gain_lift_matrix[model_name+'_CummLabeledPerDecile'].append(\n",
    "            transformed_data.limit(int(decile*data_size/100)).filter(F.col('Churn') == 1).count()\n",
    "        )\n",
    "        \n",
    "        if decile == 10:\n",
    "            gain_lift_matrix[model_name+'_LabeledPerDecile'].append(\n",
    "                gain_lift_matrix[model_name+'_CummLabeledPerDecile'][-1])\n",
    "        else:\n",
    "            gain_lift_matrix[model_name+'_LabeledPerDecile'].append(\n",
    "                gain_lift_matrix[model_name+'_CummLabeledPerDecile'][-1] - \\\n",
    "                gain_lift_matrix[model_name+'_CummLabeledPerDecile'][-2]\n",
    "            )\n",
    "                \n",
    "        gain_lift_matrix[model_name+'_ChurnPerCentPerDecile'].append(\n",
    "            round(gain_lift_matrix[model_name+'_LabeledPerDecile'][-1]/(data_size/10)*100,2)\n",
    "        )\n",
    "                \n",
    "        gain_lift_matrix['RandomSelection_Gain'].append( round(gain_lift_matrix['CummLabeledPerDecile'][-1]*100 \\\n",
    "                                                        / (natural_default_rate*data_size), 2))\n",
    "        \n",
    "        gain_lift_matrix['RandomSelection_Lift'].append(round(gain_lift_matrix['RandomSelection_Gain'][-1]/decile,2))\n",
    "        \n",
    "        \n",
    "        gain_lift_matrix[model_name+'_Gain'].append( round(gain_lift_matrix[model_name+'_CummLabeledPerDecile'][-1]*100 \\\n",
    "                                                    / (natural_default_rate*data_size), 2))\n",
    "        \n",
    "        gain_lift_matrix[model_name+'_Lift'].append(round(gain_lift_matrix[model_name+'_Gain'][-1] / decile, 2))\n",
    "                \n",
    "        \n",
    "        \n",
    "    return gain_lift_matrix"
   ]
  },
  {
   "cell_type": "code",
   "execution_count": 34,
   "metadata": {},
   "outputs": [],
   "source": [
    "transformed_data_lr = best_model_lr.transform(data)"
   ]
  },
  {
   "cell_type": "code",
   "execution_count": 35,
   "metadata": {},
   "outputs": [],
   "source": [
    "transformed_data_rf = best_model_rf.transform(data)"
   ]
  },
  {
   "cell_type": "code",
   "execution_count": 36,
   "metadata": {},
   "outputs": [],
   "source": [
    "# AUC\n",
    "auc_lr = evaluator.evaluate(transformed_data_lr)\n",
    "auc_rf = evaluator.evaluate(transformed_data_rf)"
   ]
  },
  {
   "cell_type": "code",
   "execution_count": 39,
   "metadata": {},
   "outputs": [],
   "source": [
    "# get threshold values\n",
    "trainingSummary_lr = best_model_lr.summary\n",
    "list_threshold = list(trainingSummary_lr.precisionByThreshold.toPandas()['threshold'])\n",
    "list_threshold = [0.02, 0.04, 0.06, 0.08, 0.09 ,0.1, 0.2, 0.3, 0.5, 0.6, 0.7, 0.8, 0.9]"
   ]
  },
  {
   "cell_type": "code",
   "execution_count": 42,
   "metadata": {},
   "outputs": [
    {
     "name": "stdout",
     "output_type": "stream",
     "text": [
      "150 750 0 0 0.02\n",
      "150 750 0 0 0.04\n",
      "150 750 0 0 0.06\n",
      "150 750 0 0 0.08\n",
      "150 750 0 0 0.09\n",
      "150 750 0 0 0.1\n",
      "78 28 72 722 0.2\n",
      "0 0 150 750 0.3\n"
     ]
    },
    {
     "ename": "ZeroDivisionError",
     "evalue": "division by zero",
     "output_type": "error",
     "traceback": [
      "\u001b[1;31m---------------------------------------------------------------------------\u001b[0m",
      "\u001b[1;31mZeroDivisionError\u001b[0m                         Traceback (most recent call last)",
      "\u001b[1;32m<ipython-input-42-7e6c6b93989d>\u001b[0m in \u001b[0;36m<module>\u001b[1;34m\u001b[0m\n\u001b[0;32m      1\u001b[0m \u001b[1;31m# RoC, Precision & Recall: Logistic Regression\u001b[0m\u001b[1;33m\u001b[0m\u001b[1;33m\u001b[0m\u001b[0m\n\u001b[0;32m      2\u001b[0m \u001b[0mlist_accuracy_lr\u001b[0m\u001b[1;33m,\u001b[0m \u001b[0mlist_precision_lr\u001b[0m\u001b[1;33m,\u001b[0m \u001b[0mlist_recall_lr\u001b[0m\u001b[1;33m,\u001b[0m \u001b[0mlist_F1_lr\u001b[0m\u001b[1;33m,\u001b[0m \u001b[0mlist_TPR_lr\u001b[0m\u001b[1;33m,\u001b[0m \u001b[0mlist_FPR_lr\u001b[0m\u001b[0;31m\\\u001b[0m\u001b[1;33m\u001b[0m\u001b[0m\n\u001b[1;32m----> 3\u001b[1;33m \u001b[1;33m=\u001b[0m \u001b[0mtraining_summary\u001b[0m\u001b[1;33m(\u001b[0m\u001b[0mls_threshold\u001b[0m \u001b[1;33m=\u001b[0m \u001b[0mlist_threshold\u001b[0m\u001b[1;33m,\u001b[0m \u001b[0mtransformed_data\u001b[0m \u001b[1;33m=\u001b[0m \u001b[0mtransformed_data_lr\u001b[0m\u001b[1;33m)\u001b[0m\u001b[1;33m\u001b[0m\u001b[0m\n\u001b[0m",
      "\u001b[1;32m<ipython-input-41-b94d1a9c162a>\u001b[0m in \u001b[0;36mtraining_summary\u001b[1;34m(ls_threshold, transformed_data)\u001b[0m\n\u001b[0;32m     24\u001b[0m \u001b[1;33m\u001b[0m\u001b[0m\n\u001b[0;32m     25\u001b[0m         \u001b[0macc\u001b[0m \u001b[1;33m=\u001b[0m \u001b[1;33m(\u001b[0m\u001b[0mtrue_pos\u001b[0m \u001b[1;33m+\u001b[0m \u001b[0mtrue_neg\u001b[0m\u001b[1;33m)\u001b[0m\u001b[1;33m/\u001b[0m\u001b[1;33m(\u001b[0m\u001b[0mtrue_pos\u001b[0m \u001b[1;33m+\u001b[0m \u001b[0mtrue_neg\u001b[0m \u001b[1;33m+\u001b[0m \u001b[0mfalse_pos\u001b[0m \u001b[1;33m+\u001b[0m \u001b[0mfalse_neg\u001b[0m\u001b[1;33m)\u001b[0m\u001b[1;33m\u001b[0m\u001b[0m\n\u001b[1;32m---> 26\u001b[1;33m         \u001b[0mprec\u001b[0m \u001b[1;33m=\u001b[0m \u001b[0mtrue_pos\u001b[0m \u001b[1;33m/\u001b[0m \u001b[1;33m(\u001b[0m\u001b[0mtrue_pos\u001b[0m \u001b[1;33m+\u001b[0m \u001b[0mfalse_pos\u001b[0m\u001b[1;33m)\u001b[0m\u001b[1;33m\u001b[0m\u001b[0m\n\u001b[0m\u001b[0;32m     27\u001b[0m         \u001b[0mrecall\u001b[0m \u001b[1;33m=\u001b[0m \u001b[0mtrue_pos\u001b[0m \u001b[1;33m/\u001b[0m \u001b[1;33m(\u001b[0m\u001b[0mtrue_pos\u001b[0m \u001b[1;33m+\u001b[0m \u001b[0mfalse_neg\u001b[0m\u001b[1;33m)\u001b[0m\u001b[1;33m\u001b[0m\u001b[0m\n\u001b[0;32m     28\u001b[0m         \u001b[0mf1_score\u001b[0m \u001b[1;33m=\u001b[0m \u001b[1;36m2\u001b[0m\u001b[1;33m*\u001b[0m\u001b[0mprec\u001b[0m\u001b[1;33m*\u001b[0m\u001b[0mrecall\u001b[0m\u001b[1;33m/\u001b[0m\u001b[1;33m(\u001b[0m\u001b[0mprec\u001b[0m \u001b[1;33m+\u001b[0m \u001b[0mrecall\u001b[0m\u001b[1;33m)\u001b[0m\u001b[1;33m\u001b[0m\u001b[0m\n",
      "\u001b[1;31mZeroDivisionError\u001b[0m: division by zero"
     ]
    }
   ],
   "source": [
    "# RoC, Precision & Recall: Logistic Regression\n",
    "list_accuracy_lr, list_precision_lr, list_recall_lr, list_F1_lr, list_TPR_lr, list_FPR_lr\\\n",
    "= training_summary(ls_threshold = list_threshold, transformed_data = transformed_data_lr)"
   ]
  },
  {
   "cell_type": "code",
   "execution_count": null,
   "metadata": {},
   "outputs": [],
   "source": [
    "# RoC, Precision & Recall: Random Forest\n",
    "list_accuracy_rf, list_precision_rf, list_recall_rf, list_F1_rf, list_TPR_rf, list_FPR_rf\\\n",
    "= training_summary(ls_threshold = list_threshold, transformed_data = transformed_data_rf)"
   ]
  },
  {
   "cell_type": "code",
   "execution_count": null,
   "metadata": {},
   "outputs": [],
   "source": [
    "# gain-lift analysis: Logistic Regression\n",
    "gain_lift_matrix_lr = gain_lift(transformed_data = transformed_data_lr, model_name = 'LogReg', ndr = natural_default_rate)"
   ]
  },
  {
   "cell_type": "code",
   "execution_count": null,
   "metadata": {},
   "outputs": [],
   "source": [
    "# gain-lift analysis: Random Forest\n",
    "gain_lift_matrix_rf = gain_lift(transformed_data = transformed_data_rf, model_name = 'Rand_Forest', ndr = natural_default_rate)"
   ]
  },
  {
   "cell_type": "code",
   "execution_count": null,
   "metadata": {},
   "outputs": [],
   "source": [
    "gain_lift_matrix = {}\n",
    "gain_lift_matrix.update(gain_lift_matrix_rf)\n",
    "gain_lift_matrix.update(gain_lift_matrix_lr)\n",
    "\n",
    "pd.DataFrame(gain_lift_matrix, columns = ['decile', \\\n",
    "                        'RandomSelection_Gain', 'Rand_Forest_Gain', 'LogReg_Gain', \\\n",
    "                        'RandomSelection_Lift', 'Rand_Forest_Lift', 'LogReg_Lift'])"
   ]
  },
  {
   "cell_type": "markdown",
   "metadata": {},
   "source": [
    "Model Evaluation"
   ]
  },
  {
   "cell_type": "code",
   "execution_count": null,
   "metadata": {},
   "outputs": [],
   "source": [
    "# Precision vs Recall\n",
    "plt.title('Precision vs. Recall')\n",
    "plt.plot(list_recall_lr, list_precision_lr, label = 'Logistic Regression', color = 'green', alpha = 0.9)\n",
    "plt.plot(list_recall_rf, list_precision_rf, label = 'Random Forest', color = 'green', alpha = 0.3)\n",
    "plt.legend()\n",
    "plt.ylabel('Precision')\n",
    "plt.xlabel('Recall')\n",
    "plt.savefig(path_FIGURE_DIR+'Precision_Recall')\n",
    "plt.show()"
   ]
  },
  {
   "cell_type": "code",
   "execution_count": null,
   "metadata": {},
   "outputs": [],
   "source": [
    "# ROC and AUC\n",
    "plt.title('Receiver Operating Characteristic')\n",
    "plt.plot(list_FPR_lr, list_TPR_lr, label = 'Logistic Regression, AUC = '+str(round(auc_lr,2)), color = 'green', alpha = 0.9)\n",
    "plt.plot([0,min(list_FPR_lr)], [0,min(list_TPR_lr)], color = 'green', alpha = 0.9, linestyle = '--')\n",
    "plt.plot([max(list_FPR_lr),1], [max(list_TPR_lr),1], color = 'green', alpha = 0.9, linestyle = '--')\n",
    "plt.plot(list_FPR_rf, list_TPR_rf, label = 'Random Forest, AUC = '+str(round(auc_rf,2)), color = 'green', alpha = 0.3)\n",
    "plt.plot([0,min(list_FPR_rf)], [0,min(list_TPR_rf)], color = 'green', alpha = 0.3, linestyle = '--')\n",
    "plt.plot([max(list_FPR_rf),1], [max(list_TPR_rf),1], color = 'green', alpha = 0.3, linestyle = '--')\n",
    "plt.plot([0,1], [0,1], linestyle = '--', color = 'red', label = 'Random Selection')\n",
    "plt.legend()\n",
    "plt.ylabel('True Positive Rate')\n",
    "plt.xlabel('False Positive Rate')\n",
    "plt.savefig(path_FIGURE_DIR+'Receiver_operating_characteristic')\n",
    "plt.show()"
   ]
  },
  {
   "cell_type": "code",
   "execution_count": null,
   "metadata": {},
   "outputs": [],
   "source": [
    "# Threshold Selection\n",
    "#threshold_model = 0.3\n",
    "#idx_thresh = list_threshold.index(threshold_model) this is used later\n",
    "# search for scientific methods for threshold selection"
   ]
  },
  {
   "cell_type": "code",
   "execution_count": null,
   "metadata": {},
   "outputs": [],
   "source": [
    "# Precision vs Threshold\n",
    "plt.title('Precision by Threshold')\n",
    "plt.plot(list_threshold, list_precision_lr, label = 'Logistic Regression', color = 'green', alpha = 0.9)\n",
    "plt.plot(list_threshold, list_precision_rf, label = 'Random Forest', color = 'green', alpha = 0.3)\n",
    "plt.legend()\n",
    "plt.ylabel('Precision')\n",
    "plt.xlabel('Threshold')\n",
    "plt.savefig(path_FIGURE_DIR+'Precision_Threshold')\n",
    "plt.show()"
   ]
  },
  {
   "cell_type": "code",
   "execution_count": null,
   "metadata": {},
   "outputs": [],
   "source": [
    "# Recall vs Threshold\n",
    "plt.title('Recall by Threshold')\n",
    "plt.plot(list_threshold, list_recall_lr, label = 'Logistic Regression', color = 'green', alpha = 0.9)\n",
    "plt.plot(list_threshold, list_recall_rf, label = 'Random Forest', color = 'green', alpha = 0.3)\n",
    "plt.legend()\n",
    "plt.ylabel('Recall')\n",
    "plt.xlabel('Threshold')\n",
    "plt.savefig(path_FIGURE_DIR+'Recall_Threshold')\n",
    "plt.show()"
   ]
  },
  {
   "cell_type": "code",
   "execution_count": null,
   "metadata": {},
   "outputs": [],
   "source": [
    "# F1 vs Threshold\n",
    "plt.title('F1 Score by Threshold')\n",
    "plt.plot(list_threshold, list_F1_lr, label = 'Logistic Regression', color = 'green', alpha = 0.9)\n",
    "plt.plot(list_threshold, list_F1_rf, label = 'Random Forest', color = 'green', alpha = 0.3)\n",
    "plt.legend()\n",
    "plt.ylabel('F1_Score')\n",
    "plt.xlabel('Threshold')\n",
    "plt.savefig(path_FIGURE_DIR+'F1_Threshold')\n",
    "plt.show()"
   ]
  },
  {
   "cell_type": "code",
   "execution_count": null,
   "metadata": {},
   "outputs": [],
   "source": [
    "# F1 vs Threshold @ selected Threshold\n",
    "plt.title('F1 Score by Threshold')\n",
    "plt.plot(list_threshold, list_F1_lr, label = 'Logistic Regression', color = 'green', alpha = 0.9)\n",
    "plt.plot(list_threshold, list_F1_rf, label = 'Random Forest', color = 'green', alpha = 0.3)\n",
    "plt.plot([threshold_model, threshold_model], [min(list_F1_lr),1], color = 'red', linestyle = '--', \\\n",
    "                                                 label = 'Threshold = '+str(round(threshold_model,2)))\n",
    "#plt.xlim([0.1, 0.6])\n",
    "#plt.ylim([0.4, 0.85])\n",
    "plt.legend()\n",
    "plt.ylabel('F1_Score')\n",
    "plt.xlabel('Threshold')\n",
    "plt.savefig(path_FIGURE_DIR+'F1_Threshold_Selected')\n",
    "plt.show()"
   ]
  },
  {
   "cell_type": "code",
   "execution_count": null,
   "metadata": {},
   "outputs": [],
   "source": [
    "# ROC and AUC @ selected Threshold\n",
    "\n",
    "idx_thresh = list_threshold.index(threshold_model)\n",
    "tpr_lr_Thresh = list_TPR_lr[idx_thresh]\n",
    "fpr_lr_Thresh = list_FPR_lr[idx_thresh]\n",
    "tpr_rf_Thresh = list_TPR_rf[idx_thresh]\n",
    "fpr_rf_Thresh = list_FPR_rf[idx_thresh]\n",
    "\n",
    "plt.title('Receiver Operating Characteristic')\n",
    "plt.plot(list_FPR_lr, list_TPR_lr, label = 'Logistic Regression, AUC = '+str(round(auc_lr,2)), color = 'green', alpha = 0.9)\n",
    "plt.plot(list_FPR_rf, list_TPR_rf, label = 'Random Forest, AUC = '+str(round(auc_rf,2)), color = 'green', alpha = 0.3)\n",
    "plt.scatter([fpr_lr_Thresh,fpr_lr_Thresh],[tpr_lr_Thresh,tpr_lr_Thresh], \n",
    "            color = 'red', label = 'Threshold = '+str(round(threshold_model,2)))\n",
    "plt.scatter([fpr_rf_Thresh,fpr_rf_Thresh],[tpr_rf_Thresh,tpr_rf_Thresh], color = 'red')\n",
    "plt.legend()\n",
    "plt.ylabel('True Positive Rate')\n",
    "plt.xlabel('False Positive Rate')\n",
    "plt.savefig(path_FIGURE_DIR+'ROC_Threshold_Selected')\n",
    "plt.show()"
   ]
  },
  {
   "cell_type": "code",
   "execution_count": null,
   "metadata": {},
   "outputs": [],
   "source": [
    "# Precision vs Recall @ selected Threshold\n",
    "\n",
    "precision_lr_Thresh = list_precision_lr[idx_thresh]\n",
    "recall_lr_Thresh = list_recall_lr[idx_thresh]\n",
    "precision_rf_Thresh = list_precision_rf[idx_thresh]\n",
    "recall_rf_Thresh = list_recall_rf[idx_thresh]\n",
    "\n",
    "plt.title('Precision vs. Recall')\n",
    "plt.plot(list_recall_lr, list_precision_lr, label = 'Logistic Regression', color = 'green', alpha = 0.9)\n",
    "plt.plot(list_recall_rf, list_precision_rf, label = 'Random Forest', color = 'green', alpha = 0.3)\n",
    "\n",
    "plt.scatter([recall_lr_Thresh,recall_lr_Thresh],[precision_lr_Thresh, precision_lr_Thresh], \n",
    "            color = 'red', label = 'Threshold = '+str(round(threshold_model,2)))\n",
    "plt.scatter([recall_rf_Thresh,recall_rf_Thresh],[precision_rf_Thresh, precision_rf_Thresh], color = 'red')\n",
    "\n",
    "plt.legend()\n",
    "plt.ylabel('Precision')\n",
    "plt.xlabel('Recall')\n",
    "plt.savefig(path_FIGURE_DIR+'Precision_Recall_Threshold_Selected')\n",
    "plt.show()"
   ]
  },
  {
   "cell_type": "code",
   "execution_count": null,
   "metadata": {},
   "outputs": [],
   "source": [
    "# Selected Threshold\n",
    "# Threshold to Decile interpretation"
   ]
  },
  {
   "cell_type": "code",
   "execution_count": null,
   "metadata": {},
   "outputs": [],
   "source": [
    "# Gain\n",
    "plt.plot(gain_lift_matrix['decile'],gain_lift_matrix['Rand_Forest_Gain'], color = 'green', \n",
    "         alpha = 0.3, label = 'Random Forest')\n",
    "plt.plot([0,10],[0,min(gain_lift_matrix['Rand_Forest_Gain'])], \n",
    "         color = 'green', alpha = 0.3, linestyle = '--')\n",
    "\n",
    "plt.plot(gain_lift_matrix['decile'],gain_lift_matrix['LogReg_Gain'], color = 'green', \n",
    "         alpha = 0.9, label = 'Logistic Regression')\n",
    "plt.plot([0,10],[0,min(gain_lift_matrix['LogReg_Gain'])], \n",
    "         color = 'green', alpha = 0.9, linestyle = '--')\n",
    "\n",
    "plt.plot([0]+gain_lift_matrix['decile'],[0]+gain_lift_matrix['RandomSelection_Gain'], color = 'red', \n",
    "         label = 'Random Selection', linestyle = '--')\n",
    "\n",
    "plt.title('Gain Chart')\n",
    "plt.xlabel('% of Dataset')\n",
    "plt.ylabel('Gain %')\n",
    "plt.legend()\n",
    "plt.savefig(path_FIGURE_DIR+'Gain_Chart')\n",
    "plt.show()"
   ]
  },
  {
   "cell_type": "code",
   "execution_count": null,
   "metadata": {},
   "outputs": [],
   "source": [
    "# Lift\n",
    "plt.plot(gain_lift_matrix['decile'],gain_lift_matrix['Rand_Forest_Lift'], color = 'green', \n",
    "         alpha = 0.3, label = 'Random Forest')\n",
    "\n",
    "plt.plot(gain_lift_matrix['decile'],gain_lift_matrix['LogReg_Lift'], color = 'green', \n",
    "         alpha = 0.9, label = 'Logistic Regression')\n",
    "\n",
    "plt.plot(gain_lift_matrix['decile'],gain_lift_matrix['RandomSelection_Lift'], color = 'red', \n",
    "         label = 'Random Selection', linestyle = '--')\n",
    "\n",
    "\n",
    "plt.xlabel('% of Dataset')\n",
    "plt.ylabel('Gain %')\n",
    "plt.legend()\n",
    "plt.savefig(path_FIGURE_DIR+'Lift_Chart')\n",
    "plt.show()"
   ]
  },
  {
   "cell_type": "code",
   "execution_count": null,
   "metadata": {},
   "outputs": [],
   "source": [
    "# Evaluation Matrix\n",
    "evaluation_matrix = {\n",
    "    'Random Forest':{\n",
    "        'Threshold': threshold_model,\n",
    "        'Accuracy': list_accuracy_rf[idx_thresh],\n",
    "        'Precision': list_precision_rf[idx_thresh],\n",
    "        'Recall': list_recall_rf[idx_thresh],\n",
    "        'F1 Score': list_F1_rf[idx_thresh],\n",
    "        'AUC': auc_rf\n",
    "    },\n",
    "    'Logistic Regression':{\n",
    "        'Threshold': threshold_model,\n",
    "        'Accuracy': list_accuracy_lr[idx_thresh],\n",
    "        'Precision': list_precision_lr[idx_thresh],\n",
    "        'Recall': list_recall_lr[idx_thresh],\n",
    "        'F1 Score': list_F1_lr[idx_thresh],\n",
    "        'AUC': auc_lr\n",
    "    }\n",
    "}\n",
    "\n",
    "pd.DataFrame(evaluation_matrix)"
   ]
  },
  {
   "cell_type": "code",
   "execution_count": null,
   "metadata": {},
   "outputs": [],
   "source": [
    "# dump model parameters\n",
    "model_parameters = {\n",
    "    'model_algorithm': 'Random Forest',\n",
    "    #decile\n",
    "    'threshold': threshold_model,\n",
    "    'MAXDEPTH': best_model_rf.extractParamMap()[best_model_rf.maxDepth],\n",
    "    'NUMTREES': best_model_rf.extractParamMap()[best_model_rf.numTrees],\n",
    "    'MAXBINS': best_model_rf.extractParamMap()[best_model_rf.maxBins],\n",
    "    'MININSTANCESPERNODE':best_model_rf.extractParamMap()[best_model_rf.minInstancesPerNode]\n",
    "}\n",
    "config.update({'Machine Learning Model Parameters':model_parameters})\n",
    "'''\n",
    "f = open('..\\\\config\\\\config.yaml', 'w+')\n",
    "yaml.dump(config, f, allow_unicode=True, default_flow_style=False)\n",
    "\n",
    "with open(data_config['config_cols_file'], 'r') as file:\n",
    "        for col in df.columns:\n",
    "            file.write(col+'\\n')\n",
    "'''"
   ]
  },
  {
   "cell_type": "code",
   "execution_count": 43,
   "metadata": {},
   "outputs": [
    {
     "data": {
      "text/plain": [
       "{'paths': {'DATA_DIR': '../data/',\n",
       "  'FIGURE_DIR': '../figures/',\n",
       "  'MODEL_DIR': '../models/',\n",
       "  'RESULTS_DIR': '../reports/',\n",
       "  'TRAINING_DATA': 'customer_churn.csv',\n",
       "  'TEST_DATA': 'new_customers.csv',\n",
       "  'MODEL_DATA': 'ml_trained',\n",
       "  'RESULTS_DATA': 'new_customers_predictions',\n",
       "  'MODEL_PARAMS': 'model_params.yaml'},\n",
       " 'LIST_PIPELINE_FEATURES': ['Age',\n",
       "  'Total_Purchase',\n",
       "  'Account_Manager',\n",
       "  'Years',\n",
       "  'Num_Sites'],\n",
       " 'FEATURE_VEC': 'features',\n",
       " 'LABEL_VEC': 'Churn',\n",
       " 'ml_model_optimizer': {'logistic_regression': {'MAXITER': [100],\n",
       "   'REGUPARAM': [0, 1, 10],\n",
       "   'ALPHA': [0.0, 0.01, 1]},\n",
       "  'random_forest': {'MAXDEPTH': [5, 10, 15],\n",
       "   'NUMTREES': [10, 20, 30],\n",
       "   'MAXBINS': [30, 32, 35],\n",
       "   'MININSTANCESPERNODE': [1, 5, 10]}}}"
      ]
     },
     "execution_count": 43,
     "metadata": {},
     "output_type": "execute_result"
    }
   ],
   "source": [
    "config"
   ]
  },
  {
   "cell_type": "code",
   "execution_count": 46,
   "metadata": {},
   "outputs": [],
   "source": [
    "config_new_file['paths'] = {'DATA_DIR': '../data/'}"
   ]
  },
  {
   "cell_type": "code",
   "execution_count": 47,
   "metadata": {},
   "outputs": [],
   "source": [
    "import configparser\n",
    "config_new_file = configparser.ConfigParser()\n",
    "#config_new_file.update(config)\n",
    "\n",
    "with open('example.yaml', 'w') as configfile:\n",
    "    config_new_file.write(configfile)"
   ]
  },
  {
   "cell_type": "code",
   "execution_count": 51,
   "metadata": {},
   "outputs": [],
   "source": [
    "config = configparser.ConfigParser()\n",
    "config['DEFAULT'] = {'ServerAliveInterval': '45','Compression': 'yes','CompressionLevel': '9'}\n",
    "config['bitbucket.org'] = {}\n",
    "config['bitbucket.org']['User'] = 'hg'\n",
    "config['topsecret.server.com'] = {}\n",
    "topsecret = config['topsecret.server.com']\n",
    "topsecret['Port'] = '50022'     # mutates the parser\n",
    "topsecret['ForwardX11'] = 'no'  # same here\n",
    "config['DEFAULT']['ForwardX11'] = 'yes'\n",
    "with open('example.yaml', 'w') as configfile:\n",
    "    config.write(configfile)"
   ]
  },
  {
   "cell_type": "code",
   "execution_count": null,
   "metadata": {},
   "outputs": [],
   "source": []
  }
 ],
 "metadata": {
  "anaconda-cloud": {},
  "kernelspec": {
   "display_name": "Python 3",
   "language": "python",
   "name": "python3"
  },
  "language_info": {
   "codemirror_mode": {
    "name": "ipython",
    "version": 3
   },
   "file_extension": ".py",
   "mimetype": "text/x-python",
   "name": "python",
   "nbconvert_exporter": "python",
   "pygments_lexer": "ipython3",
   "version": "3.6.2"
  }
 },
 "nbformat": 4,
 "nbformat_minor": 1
}
